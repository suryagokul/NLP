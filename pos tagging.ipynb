{
 "cells": [
  {
   "cell_type": "markdown",
   "metadata": {},
   "source": [
    "<b>pos tagging can be divided into two types  (Parts Of Speech Tagging)\n",
    "\n",
    "            1)Rule based\n",
    "\n",
    "            2)Stochastic based"
   ]
  },
  {
   "cell_type": "markdown",
   "metadata": {},
   "source": [
    "<b>Rule based : </b> \n",
    "\n",
    "    It uses set of rules to find out of the part of speech of the word.\n",
    "    \n",
    "    Some rules are : \n",
    "        \n",
    "        A word succeded by an article is a noun\n",
    "            \n",
    "            ex : I saw a child going to the supermarket to buy an apple.\n",
    "            \n",
    "                    'a' article   'child' noun\n",
    "                    \n",
    "                    'the' article  'supermarket' noun\n",
    "                    \n",
    "                    'an' article    'apple'  noun\n",
    "                    \n",
    "        A word ending with 'ing' is a verb\n",
    "        \n",
    "            ex : It is raining heavily          =     here raining is a verb\n",
    "            \n",
    "                 I enjoyed the rain yesterday   =     here rain is not a verb\n",
    "                 \n",
    "                 "
   ]
  },
  {
   "cell_type": "markdown",
   "metadata": {},
   "source": [
    "<b>Stochastic based : </b>\n",
    "\n",
    "    N-grams of texts are extensively used in text mining and natural language \n",
    "   \n",
    "    processing tasks. An n-gram is a contiguous sequence of n items from a\n",
    "    \n",
    "    given sample of text or speech. an n-gram of size 1 is referred to as a \n",
    "    \n",
    "    \"unigram\"; size 2 is a \"bigram\"; size 3 is a \"trigram\". When N>3 this\n",
    "    \n",
    "    is usually referred to as four grams or five grams and so on.\n",
    "\n",
    "    Formula to calculate number of N-grams in a sentence.\n",
    "\n",
    "        If X=Number of words in a given sentence K, the number of n-grams for\n",
    "        \n",
    "        sentence K would be:\n",
    "\n",
    "        Ngramk = X - (N - 1)\n",
    "       \n",
    "        Example:\n",
    "        \n",
    "        Sentence : I want to learn Machine Learning\n",
    "        \n",
    "1 **Unigram :** now calculate number of unigrams in sentence using formula\n",
    "        \n",
    "        here, X = 6 and N = 1 (for unigram)\n",
    "        \n",
    "        Ngramk = X - (N - 1)\n",
    "        \n",
    "        Ngramk = 6 - (1–1) = 6 (i.e. unigram is equal to number of words in a sentence)\n",
    "        \n",
    "        [I][want][to][learn][Machine][Learning]\n",
    "        \n",
    "2 **Biagram :**\n",
    "        \n",
    "        here, X = 6 and N = 2 (for biagram)\n",
    "        \n",
    "        Ngramk = X - (N - 1)\n",
    "        \n",
    "        Ngramk = 6 - (2–1) = 5\n",
    "        \n",
    "        [I want][want to][to learn][learn Machine][Machine Learning]\n",
    "        \n",
    "3 **Trigram :**\n",
    "        \n",
    "        here, X = 6 and N = 3 (for trigram)\n",
    "        \n",
    "        Ngramk = X - (N - 1)\n",
    "        \n",
    "        Ngramk = 6 - (3–1) = 4\n",
    "        \n",
    "        [I want to][want to learn][to learn Machine][learn Machine Learning]\n",
    "        \n",
    "        You can also generate for N=4,5,6 and so on.\n"
   ]
  },
  {
   "cell_type": "code",
   "execution_count": 1,
   "metadata": {
    "scrolled": true
   },
   "outputs": [
    {
     "data": {
      "image/png": "[encoded data removed]",
      "text/plain": [
       "<IPython.core.display.Image object>"
      ]
     },
     "execution_count": 1,
     "metadata": {
      "image/png": {
       "height": 400,
       "width": 800
      }
     },
     "output_type": "execute_result"
    }
   ],
   "source": [
    "from IPython.display import Image\n",
    "\n",
    "Image(filename='pos.png',width=800, height=400)"
   ]
  },
  {
   "cell_type": "code",
   "execution_count": 2,
   "metadata": {},
   "outputs": [],
   "source": [
    "import nltk"
   ]
  },
  {
   "cell_type": "code",
   "execution_count": 3,
   "metadata": {},
   "outputs": [],
   "source": [
    "from nltk.tokenize import word_tokenize\n",
    "from nltk.tag import pos_tag"
   ]
  },
  {
   "cell_type": "code",
   "execution_count": 4,
   "metadata": {},
   "outputs": [
    {
     "data": {
      "text/plain": [
       "[('Rohit', 'NNP'),\n",
       " ('Gurunath', 'NNP'),\n",
       " ('Sharma', 'NNP'),\n",
       " ('is', 'VBZ'),\n",
       " ('an', 'DT'),\n",
       " ('Indian', 'JJ'),\n",
       " ('cricket', 'NN'),\n",
       " ('player', 'NN'),\n",
       " ('.', '.')]"
      ]
     },
     "execution_count": 4,
     "metadata": {},
     "output_type": "execute_result"
    }
   ],
   "source": [
    "# pos tag is used for tagging parts of speech for each word.\n",
    "\n",
    "nltk.pos_tag(word_tokenize(\"Rohit Gurunath Sharma is an Indian cricket player.\"))\n",
    "\n"
   ]
  },
  {
   "cell_type": "code",
   "execution_count": 5,
   "metadata": {},
   "outputs": [
    {
     "name": "stdout",
     "output_type": "stream",
     "text": [
      "NNP: noun, proper, singular\n",
      "    Motown Venneboerger Czestochwa Ranzer Conchita Trumplane Christos\n",
      "    Oceanside Escobar Kreisler Sawyer Cougar Yvette Ervin ODI Darryl CTCA\n",
      "    Shannon A.K.C. Meltex Liverpool ...\n"
     ]
    }
   ],
   "source": [
    "nltk.help.upenn_tagset(\"NNP\")"
   ]
  },
  {
   "cell_type": "code",
   "execution_count": null,
   "metadata": {},
   "outputs": [],
   "source": []
  }
 ],
 "metadata": {
  "kernelspec": {
   "display_name": "Python 3",
   "language": "python",
   "name": "python3"
  },
  "language_info": {
   "codemirror_mode": {
    "name": "ipython",
    "version": 3
   },
   "file_extension": ".py",
   "mimetype": "text/x-python",
   "name": "python",
   "nbconvert_exporter": "python",
   "pygments_lexer": "ipython3",
   "version": "3.7.6"
  }
 },
 "nbformat": 4,
 "nbformat_minor": 4
}
